{
 "cells": [
  {
   "cell_type": "markdown",
   "metadata": {},
   "source": [
    "# Introdução à Ciência de Dados - UFPB\n",
    "Professor: Yuri Malheiros\n",
    "\n",
    "## Medidas de Centralidade e Dispersão"
   ]
  },
  {
   "cell_type": "markdown",
   "metadata": {},
   "source": [
    "A partir do dataset `movies.csv` calcule a média, mediana e desvio padrão para as colunas:"
   ]
  },
  {
   "cell_type": "markdown",
   "metadata": {},
   "source": [
    "### US Gross"
   ]
  },
  {
   "cell_type": "code",
   "execution_count": 1,
   "metadata": {},
   "outputs": [],
   "source": [
    "# ADICIONE O SEU CÓDIGO AQUI\n",
    "\n",
    "df_movies[\"US Gross\"].mean()\n",
    "\n",
    "df_movies[\"US Gross\"].median()\n",
    "\n",
    "df_movies[\"US Gross\"].std()"
   ]
  },
  {
   "cell_type": "markdown",
   "metadata": {},
   "source": [
    "### Production Budget"
   ]
  },
  {
   "cell_type": "code",
   "execution_count": 2,
   "metadata": {},
   "outputs": [],
   "source": [
    "# ADICIONE O SEU CÓDIGO AQUI\n",
    "\n",
    "df_movies[\"Production Budget\"].mean()\n",
    "\n",
    "df_movies[\"Production Budget\"].median()\n",
    "\n",
    "df_movies[\"Production Budget\"].std()"
   ]
  },
  {
   "cell_type": "markdown",
   "metadata": {},
   "source": [
    "### Running Time"
   ]
  },
  {
   "cell_type": "code",
   "execution_count": 3,
   "metadata": {},
   "outputs": [],
   "source": [
    "# ADICIONE O SEU CÓDIGO AQUI\n",
    "\n",
    "df_movies[\"Running Time (min)\"].mean()\n",
    "\n",
    "df_movies[\"Running Time (min)\"].median()\n",
    "\n",
    "df_movies[\"Running Time (min)\"].std()"
   ]
  },
  {
   "cell_type": "markdown",
   "metadata": {},
   "source": [
    "### IMDB Rating"
   ]
  },
  {
   "cell_type": "code",
   "execution_count": 4,
   "metadata": {},
   "outputs": [],
   "source": [
    "# ADICIONE O SEU CÓDIGO AQUI\n",
    "\n",
    "df_movies[\"IMDB Rating\"].mean()\n",
    "\n",
    "df_movies[\"IMDB Rating\"].median()\n",
    "\n",
    "df_movies[\"IMDB Rating\"].std()"
   ]
  },
  {
   "cell_type": "markdown",
   "metadata": {},
   "source": [
    "### IMDB Votes"
   ]
  },
  {
   "cell_type": "code",
   "execution_count": 6,
   "metadata": {},
   "outputs": [],
   "source": [
    "# ADICIONE O SEU CÓDIGO AQUI\n",
    "\n",
    "df_movies[\"IMDB Votes\"].mean()\n",
    "\n",
    "df_movies[\"IMDB Votes\"].median()\n",
    "\n",
    "df_movies[\"IMDB Votes\"].std()"
   ]
  },
  {
   "cell_type": "markdown",
   "metadata": {},
   "source": [
    "### Análise dos Resultados\n",
    "\n",
    "Quais colunas tiveram valores muito diferentes entre média e mediana? Quais os seus desvios padrão?"
   ]
  },
  {
   "cell_type": "markdown",
   "metadata": {},
   "source": [
    "**RESPONDA AQUI**"
   ]
  },
  {
   "cell_type": "code",
   "execution_count": null,
   "metadata": {},
   "outputs": [],
   "source": [
    "#R: \n",
    "'''\n",
    "Foram três:\n",
    "    + US Gross, com o desvio padrão de 62555311.39066204;\n",
    "    + Production Budget, com o desvio padrão de 35585913.44464446;\n",
    "    + IMDB Votes, com o desvio padrão de 44937.58233504965;\n",
    "''' "
   ]
  },
  {
   "cell_type": "markdown",
   "metadata": {},
   "source": [
    "Que conclusões podemos tirar desses resultados?"
   ]
  },
  {
   "cell_type": "markdown",
   "metadata": {},
   "source": [
    "**RESPONDA AQUI**"
   ]
  },
  {
   "cell_type": "code",
   "execution_count": null,
   "metadata": {},
   "outputs": [],
   "source": [
    "#R:\n",
    "'''\n",
    "Mostra que as colunas que estão com um valor de desvio padrão alto indica que os valores estão mais espalhados, \n",
    "mais longe da média, e um desvio padrão baixo indica que os valores estão mais próximos da média.\n",
    "'''"
   ]
  }
 ],
 "metadata": {
  "kernelspec": {
   "display_name": "Python 3",
   "language": "python",
   "name": "python3"
  },
  "language_info": {
   "codemirror_mode": {
    "name": "ipython",
    "version": 3
   },
   "file_extension": ".py",
   "mimetype": "text/x-python",
   "name": "python",
   "nbconvert_exporter": "python",
   "pygments_lexer": "ipython3",
   "version": "3.8.3"
  }
 },
 "nbformat": 4,
 "nbformat_minor": 4
}
